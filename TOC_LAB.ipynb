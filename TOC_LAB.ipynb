{
  "cells": [
    {
      "cell_type": "markdown",
      "metadata": {
        "id": "view-in-github",
        "colab_type": "text"
      },
      "source": [
        "<a href=\"https://colab.research.google.com/github/divyaparadkar/TOC_PYTHON/blob/main/TOC_LAB.ipynb\" target=\"_parent\"><img src=\"https://colab.research.google.com/assets/colab-badge.svg\" alt=\"Open In Colab\"/></a>"
      ]
    },
    {
      "cell_type": "markdown",
      "metadata": {
        "id": "3TyMvbiYOGHB"
      },
      "source": [
        "WAP to create DFA for language having string of length 2\n"
      ]
    },
    {
      "cell_type": "markdown",
      "source": [],
      "metadata": {
        "id": "eSTb7BpgNu4y"
      }
    },
    {
      "cell_type": "code",
      "execution_count": null,
      "metadata": {
        "colab": {
          "base_uri": "https://localhost:8080/"
        },
        "id": "xsW9G4XzObOJ",
        "outputId": "32fb01c1-ccb8-4962-a5aa-2560dbaa151d"
      },
      "outputs": [
        {
          "name": "stdout",
          "output_type": "stream",
          "text": [
            "Enter the string in a&b:baaaab\n",
            "String rejected by DFA \n"
          ]
        }
      ],
      "source": [
        "def First_state_q0(i):\n",
        "  if i==\"a\" or i==\"b\":\n",
        "   globals()[\"state\"]=\"q1\"\n",
        "\n",
        "def Second_state_q1(i):\n",
        "  if i==\"a\" or i==\"b\":\n",
        "    globals()[\"state\"]=\"q2\"\n",
        "\n",
        "def Third_state_q2(i):\n",
        "  if i==\"a\" or i==\"b\":\n",
        "   globals()[\"state\"]=\"q3\"\n",
        "\n",
        "\n",
        "state=\"q0\"\n",
        "input_string=input(\"Enter the string in a&b:\")\n",
        "for i in input_string:\n",
        "  if state==\"q0\":\n",
        "    First_state_q0(i)\n",
        "  elif  state==\"q1\":\n",
        "    Second_state_q1(i)\n",
        "  else:\n",
        "    Third_state_q2(i)\n",
        "\n",
        "if state==\"q2\":\n",
        "  print(\"String accepted by DFA\")\n",
        "else:\n",
        "  print(\"String rejected by DFA \")\n",
        "\n",
        "\n",
        "\n",
        "\n",
        "\n"
      ]
    },
    {
      "cell_type": "code",
      "execution_count": null,
      "metadata": {
        "colab": {
          "base_uri": "https://localhost:8080/"
        },
        "id": "KaEMOb9xUYYP",
        "outputId": "8f44fe94-1f32-413c-887d-468fc9acf4d9"
      },
      "outputs": [
        {
          "name": "stdout",
          "output_type": "stream",
          "text": [
            "Enter the string in a&b:abc\n",
            "Wrong input\n"
          ]
        }
      ],
      "source": [
        "def First_state_q0(i):\n",
        "  if i in \"ab\":\n",
        "   globals()[\"state\"]=\"q1\"\n",
        "  else:\n",
        "    globals()[\"state\"]=\"q4\"\n",
        "\n",
        "def Second_state_q1(i):\n",
        "  if i in \"ab\":\n",
        "    globals()[\"state\"]=\"q2\"\n",
        "  else:\n",
        "    globals()[\"state\"]=\"q4\"\n",
        "\n",
        "def Third_state_q2(i):\n",
        "  if i in \"ab\":\n",
        "   globals()[\"state\"]=\"q2\"\n",
        "  else:\n",
        "    globals()[\"state\"]=\"q4\"\n",
        "\n",
        "state=\"q0\"\n",
        "input_string=input(\"Enter the string in a&b:\")\n",
        "for i in input_string:\n",
        "  if state==\"q0\":\n",
        "    First_state_q0(i)\n",
        "  elif  state==\"q1\":\n",
        "    Second_state_q1(i)\n",
        "  elif  state==\"q2\":\n",
        "    Third_state_q2(i)\n",
        "  else:\n",
        "    globals()[\"state\"]=\"q4\"\n",
        "\n",
        "if state==\"q2\":\n",
        "  print(\"String accepted by DFA\")\n",
        "\n",
        "elif state==\"q4\":\n",
        "  print(\"Wrong input\")\n",
        "\n",
        "else:\n",
        "  print(\"String rejected by DFA \")\n",
        "\n",
        "\n"
      ]
    },
    {
      "cell_type": "markdown",
      "metadata": {
        "id": "7XSJyjUtfBE7"
      },
      "source": [
        "number of a divisible of 3\n"
      ]
    },
    {
      "cell_type": "code",
      "execution_count": null,
      "metadata": {
        "colab": {
          "base_uri": "https://localhost:8080/",
          "height": 297
        },
        "id": "FV9gJeF5fFaY",
        "outputId": "2457b7db-a8ee-45f2-a74c-3c17d2db83a0"
      },
      "outputs": [
        {
          "name": "stdout",
          "output_type": "stream",
          "text": [
            "Enter the string in a&b:acc\n",
            "String rejected by DFA \n",
            "Enter a number: ab\n"
          ]
        },
        {
          "output_type": "error",
          "ename": "ValueError",
          "evalue": "ignored",
          "traceback": [
            "\u001b[0;31m---------------------------------------------------------------------------\u001b[0m",
            "\u001b[0;31mValueError\u001b[0m                                Traceback (most recent call last)",
            "\u001b[0;32m<ipython-input-1-b444967bf613>\u001b[0m in \u001b[0;36m<cell line: 30>\u001b[0;34m()\u001b[0m\n\u001b[1;32m     28\u001b[0m \u001b[0;34m\u001b[0m\u001b[0m\n\u001b[1;32m     29\u001b[0m \u001b[0;34m\u001b[0m\u001b[0m\n\u001b[0;32m---> 30\u001b[0;31m \u001b[0mnum\u001b[0m \u001b[0;34m=\u001b[0m \u001b[0mint\u001b[0m\u001b[0;34m(\u001b[0m\u001b[0minput\u001b[0m\u001b[0;34m(\u001b[0m\u001b[0;34m\"Enter a number: \"\u001b[0m\u001b[0;34m)\u001b[0m\u001b[0;34m)\u001b[0m\u001b[0;34m\u001b[0m\u001b[0;34m\u001b[0m\u001b[0m\n\u001b[0m\u001b[1;32m     31\u001b[0m \u001b[0;34m\u001b[0m\u001b[0m\n\u001b[1;32m     32\u001b[0m \u001b[0;32mif\u001b[0m \u001b[0mnum\u001b[0m \u001b[0;34m%\u001b[0m \u001b[0;36m3\u001b[0m \u001b[0;34m==\u001b[0m \u001b[0;36m0\u001b[0m\u001b[0;34m:\u001b[0m\u001b[0;34m\u001b[0m\u001b[0;34m\u001b[0m\u001b[0m\n",
            "\u001b[0;31mValueError\u001b[0m: invalid literal for int() with base 10: 'ab'"
          ]
        }
      ],
      "source": [
        "def First_state_q0(i):\n",
        "  if i==\"a\" or i==\"b\":\n",
        "   globals()[\"state\"]=\"q1\"\n",
        "\n",
        "def Second_state_q1(i):\n",
        "  if i==\"a\" or i==\"b\":\n",
        "    globals()[\"state\"]=\"q2\"\n",
        "\n",
        "def Third_state_q2(i):\n",
        "  if i==\"a\" or i==\"b\":\n",
        "   globals()[\"state\"]=\"q3\"\n",
        "\n",
        "\n",
        "state=\"q0\"\n",
        "input_string=input(\"Enter the string in a&b:\")\n",
        "for i in input_string:\n",
        "  if state==\"q0\":\n",
        "    First_state_q0(i)\n",
        "  elif  state==\"q1\":\n",
        "    Second_state_q1(i)\n",
        "  else:\n",
        "    Third_state_q2(i)\n",
        "\n",
        "if state==\"q2\":\n",
        "  print(\"String accepted by DFA\")\n",
        "else:\n",
        "  print(\"String rejected by DFA \")\n",
        "\n",
        "\n",
        "num = int(input(\"Enter a number: \"))\n",
        "\n",
        "if num % 3 == 0:\n",
        "    print(f\"{num} is divisible by 3\")\n",
        "else:\n",
        "    print(f\"{num} is not divisible by 3\")\n",
        "\n",
        "\n",
        "\n",
        "\n"
      ]
    },
    {
      "cell_type": "markdown",
      "source": [
        "Date:-13-9-2023\n"
      ],
      "metadata": {
        "id": "akZLjPEiN-nS"
      }
    },
    {
      "cell_type": "markdown",
      "source": [
        "Q1 wap designe DFA start with a and end with B\n"
      ],
      "metadata": {
        "id": "b8E8gS_KNyBS"
      }
    },
    {
      "cell_type": "code",
      "source": [
        "def state_q0(i):\n",
        "  if i=='a':\n",
        "    globals()[\"state\"]=\"q1\"\n",
        "  elif i=='b':\n",
        "    globals()[\"state\"]=\"q2\"\n",
        "  else:\n",
        "    globals()[\"state\"]=\"q3\"\n",
        "\n",
        "def state_q1(i):\n",
        "  if i=='a':\n",
        "    globals()[\"state\"]=\"q1\"\n",
        "  elif i=='b':\n",
        "    globals()[\"state\"]=\"q2\"\n",
        "  else:\n",
        "    globals()[\"state\"]=\"q3\"\n",
        "\n",
        "def state_q2(i):\n",
        "  if i=='a':\n",
        "    globals()[\"state\"]=\"q1\"\n",
        "  elif i=='b':\n",
        "    globals()[\"state\"]=\"q2\"\n",
        "  else:\n",
        "    globals()[\"state\"]=\"q3\"\n",
        "\n",
        "def state_Dead(i):\n",
        "  if i=='a':\n",
        "    globals()[\"state\"]=\"D\"\n",
        "  elif i=='b':\n",
        "    globals()[\"state\"]=\"D\"\n",
        "  else:\n",
        "    globals()[\"state\"]=\"q3\"\n",
        "\n",
        "def state_q3(i):\n",
        "  globals()[\"state\"]=\"q3\"\n",
        "\n",
        "\n",
        "state =\"q0\"\n",
        "input_string =input(\"Enter the string in a&b:\")\n",
        "\n",
        "for i in input_string:\n",
        "  match state:\n",
        "     case \"q0\":\n",
        "        state_q0(i)\n",
        "     case \"q1\":\n",
        "        state_q1(i)\n",
        "     case \"q2\":\n",
        "        state_q2(i)\n",
        "     case \"D\":\n",
        "        state_Dead(i)\n",
        "     case _:\n",
        "        pass\n",
        "\n",
        "\n",
        "\n",
        "\n",
        "if state==\"q2\":\n",
        "  print(\"String is accepted\")\n",
        "\n",
        "elif state==\"q3\":\n",
        "  print(\"invalid string\")\n",
        "else:\n",
        "   print(\"string is rejected \")\n",
        "\n",
        "\n",
        "\n",
        "\n"
      ],
      "metadata": {
        "colab": {
          "base_uri": "https://localhost:8080/"
        },
        "id": "Cr0x8bfZN7-N",
        "outputId": "bdbc5727-b1b4-46f6-c8e8-5c3911119764"
      },
      "execution_count": null,
      "outputs": [
        {
          "output_type": "stream",
          "name": "stdout",
          "text": [
            "Enter the string in a&b:aabb\n",
            "String is accepted\n"
          ]
        }
      ]
    },
    {
      "cell_type": "markdown",
      "source": [
        "Q2:- WAP to designe a DFA which accepts set of all string in which substing is aba."
      ],
      "metadata": {
        "id": "tkvA3k1OTiGm"
      }
    },
    {
      "cell_type": "code",
      "source": [
        "def state_q0(i):\n",
        "  if i=='a':\n",
        "    globals()[\"state\"]=\"q1\"\n",
        "  elif i=='b':\n",
        "    globals()[\"state\"]=\"q0\"\n",
        "\n",
        "\n",
        "def state_q1(i):\n",
        "  if i=='a':\n",
        "    globals()[\"state\"]=\"q1\"\n",
        "  elif i=='b':\n",
        "    globals()[\"state\"]=\"q2\"\n",
        "\n",
        "def state_q2(i):\n",
        "  if i=='a':\n",
        "    globals()[\"state\"]=\"q3\"\n",
        "  elif i=='b':\n",
        "    globals()[\"state\"]=\"q0\"\n",
        "\n",
        "def state_q3(i):\n",
        "  if i=='a':\n",
        "     globals()[\"state\"]=\"q3\"\n",
        "  elif i=='b':\n",
        "    globals()[\"state\"]=\"q3\"\n",
        "\n",
        "state =\"q0\"\n",
        "input_string =input(\"Enter the string in a&b:\")\n",
        "\n",
        "for i in input_string:\n",
        "  match state:\n",
        "     case \"q0\":\n",
        "        state_q0(i)\n",
        "     case \"q1\":\n",
        "        state_q1(i)\n",
        "     case \"q2\":\n",
        "        state_q2(i)\n",
        "     case \"q3\":\n",
        "        state_q3(i)\n",
        "     case _:\n",
        "        pass\n",
        "if state==\"q3\":\n",
        "  print(\"String is accepted\")\n",
        "\n",
        "else:\n",
        "   print(\"string is rejected \")\n",
        "\n",
        "\n",
        "\n",
        "\n",
        "\n",
        "\n",
        "\n",
        "\n",
        "\n"
      ],
      "metadata": {
        "colab": {
          "base_uri": "https://localhost:8080/"
        },
        "id": "-MfJmir-aKxk",
        "outputId": "f024ed16-6ee9-4db6-b40e-2b70f333e36f"
      },
      "execution_count": null,
      "outputs": [
        {
          "output_type": "stream",
          "name": "stdout",
          "text": [
            "Enter the string in a&b:ab\n",
            "string is rejected \n"
          ]
        }
      ]
    },
    {
      "cell_type": "markdown",
      "source": [
        "Q3:- WAP to design a DFA with accept set of all string which contains no. of a's & number of b's"
      ],
      "metadata": {
        "id": "j0KpLHpaccTF"
      }
    },
    {
      "cell_type": "code",
      "source": [
        "\n",
        "def q0(i):\n",
        "  if i==\"a\":\n",
        "      globals()[\"count\"]+=1\n",
        "      return \"q1\"\n",
        "  elif i==\"b\":\n",
        "        return \"q1\"\n",
        "\n",
        "  else:\n",
        "     globals()[\"state\"]=\"q3\"\n",
        "def q1(i):\n",
        "    if i==\"a\":\n",
        "        globals()[\"count\"]+=1\n",
        "        return \"q2\"\n",
        "    elif i==\"b\":\n",
        "        return \"q2\"\n",
        "    else:\n",
        "        globals()[\"state\"]=\"q3\"\n",
        "def q2(i):\n",
        "    if i==\"a\":\n",
        "        globals()[\"count\"]+=1\n",
        "        return \"q2\"\n",
        "    elif i==\"b\":\n",
        "        return \"q2\"\n",
        "    else:\n",
        "        globals()[\"state\"]=\"q3\"\n",
        "def q3(i):\n",
        "    globals()[\"state\"]=\"q3\"\n",
        "state=\"q0\"\n",
        "count=0\n",
        "daal=input(\"Enter the string in terms of a & b :- \")\n",
        "for k in daal:\n",
        "    if state==\"q0\":\n",
        "        q0(k)\n",
        "    elif state==\"q1\":\n",
        "        q1(k)\n",
        "    elif state==\"q2\":\n",
        "        q2(k)\n",
        "    else:\n",
        "        break\n",
        "if state==\"q3\":\n",
        "    print(\"WRONG INPUT!!!\")\n",
        "elif count%2==0:\n",
        "    print(\"The string is accepted\")\n",
        "else:\n",
        "    print(\"The string is rejected\")"
      ],
      "metadata": {
        "colab": {
          "base_uri": "https://localhost:8080/"
        },
        "id": "Nmjv9JNledz0",
        "outputId": "62b2b57c-7d83-4a4b-e128-dd612a1a26e7"
      },
      "execution_count": null,
      "outputs": [
        {
          "output_type": "stream",
          "name": "stdout",
          "text": [
            "Enter the string in terms of a & b :- aabb\n",
            "The string is accepted\n"
          ]
        }
      ]
    },
    {
      "cell_type": "code",
      "source": [
        "def q0(i):\n",
        "    if i==\"a\":\n",
        "        globals()[\"count\"]+=1\n",
        "        return \"q1\"\n",
        "    elif i==\"b\":\n",
        "        globals()[\"flag\"]+=1\n",
        "        return \"q1\"\n",
        "    else:\n",
        "        globals()[\"state\"]=\"q3\"\n",
        "def q1(i):\n",
        "    if i==\"a\":\n",
        "        globals()[\"count\"]+=1\n",
        "        return \"q2\"\n",
        "    elif i==\"b\":\n",
        "        globals()[\"flag\"]+=1\n",
        "        return \"q2\"\n",
        "    else:\n",
        "        globals()[\"state\"]=\"q3\"\n",
        "\n",
        "def q2(i):\n",
        "    if i==\"a\":\n",
        "        globals()[\"count\"]+=1\n",
        "        return \"q2\"\n",
        "    elif i==\"b\":\n",
        "        globals()[\"flag\"]+=1\n",
        "        return \"q2\"\n",
        "    else:\n",
        "        globals()[\"state\"]=\"q3\"\n",
        "def q3(i):\n",
        "    globals()[\"state\"]=\"q3\"\n",
        "state=\"q0\"\n",
        "count=0\n",
        "flag=0\n",
        "daal=input(\"Enter the string in terms of a & b :- \")\n",
        "for k in daal:\n",
        "    if state==\"q0\":\n",
        "        q0(k)\n",
        "    elif state==\"q1\":\n",
        "        q1(k)\n",
        "    elif state==\"q2\":\n",
        "        q2(k)\n",
        "    else:\n",
        "        break\n",
        "if state==\"q3\":\n",
        "    print(\"WRONG INPUT!!!\")\n",
        "elif count%2==0:\n",
        "    if flag%2==1:\n",
        "        print(\"The string is accepted\")\n",
        "    else:\n",
        "        print(\"string is rejected\")\n",
        "\n",
        "elif state==\"q3\":\n",
        "    print(\"WRONG INPUT!!!\")\n",
        "else:\n",
        "    print(\"The string is rejected\")"
      ],
      "metadata": {
        "id": "bK8w-Yx4imMV"
      },
      "execution_count": null,
      "outputs": []
    },
    {
      "cell_type": "markdown",
      "source": [
        "Date:-4-9-2023\n"
      ],
      "metadata": {
        "id": "CxxVylDjWMPc"
      }
    },
    {
      "cell_type": "markdown",
      "source": [
        "pattern matching"
      ],
      "metadata": {
        "id": "l-m4iUWCXnoM"
      }
    },
    {
      "cell_type": "code",
      "source": [
        "s=\"divya paradkar\"\n",
        "if \"divya\" in s:\n",
        "  print(\"found\")\n",
        "else:\n",
        "  print(\"not found\")"
      ],
      "metadata": {
        "colab": {
          "base_uri": "https://localhost:8080/"
        },
        "id": "JWnBzQh2Xpg8",
        "outputId": "c67db07e-5dc6-4737-947c-7ea452a1df73"
      },
      "execution_count": null,
      "outputs": [
        {
          "output_type": "stream",
          "name": "stdout",
          "text": [
            "found\n"
          ]
        }
      ]
    },
    {
      "cell_type": "code",
      "source": [
        "import re\n"
      ],
      "metadata": {
        "id": "i6H8fY_3cLdk"
      },
      "execution_count": null,
      "outputs": []
    },
    {
      "cell_type": "code",
      "source": [
        "text =''' Total operating characteristic, a statistical method to compare a boolean variable and a rank variable · \"T\", in the World War I Western Front \"signalese\" and the RAF phonetic alphabet 076'''\n",
        "pat=\"[a]\"\n",
        "m=re.search(pat,text)\n",
        "print(m)\n",
        "if m:\n",
        "  print(\"found\")\n",
        "else:\n",
        "  print(\"not fouund\")\n"
      ],
      "metadata": {
        "colab": {
          "base_uri": "https://localhost:8080/"
        },
        "id": "jg2fP586cP3X",
        "outputId": "daf662ec-2d15-47d8-8d09-fd2ce9f9a6e1"
      },
      "execution_count": null,
      "outputs": [
        {
          "output_type": "stream",
          "name": "stdout",
          "text": [
            "<re.Match object; span=(4, 5), match='a'>\n",
            "found\n"
          ]
        }
      ]
    },
    {
      "cell_type": "code",
      "source": [
        "m=re.search(r\"[a-z]\",text)\n",
        "print(m)\n",
        "if m:\n",
        "  print(\"found\")\n",
        "else:\n",
        "  print(\"not fouund\")\n",
        "\n"
      ],
      "metadata": {
        "colab": {
          "base_uri": "https://localhost:8080/"
        },
        "id": "oitXr15veVSb",
        "outputId": "013a44d7-6f53-4b13-e6e4-472f0b39e6e1"
      },
      "execution_count": null,
      "outputs": [
        {
          "output_type": "stream",
          "name": "stdout",
          "text": [
            "<re.Match object; span=(2, 3), match='o'>\n",
            "found\n"
          ]
        }
      ]
    },
    {
      "cell_type": "code",
      "source": [
        "m=re.search(r\"^[A-Za-z]\",text)\n",
        "print(m)\n",
        "if m:\n",
        "  print(\"found\")\n",
        "else:\n",
        "  print(\"not fouund\")\n"
      ],
      "metadata": {
        "colab": {
          "base_uri": "https://localhost:8080/"
        },
        "id": "wy6nh8WCgdqI",
        "outputId": "d9a76330-e9fb-4454-e6c9-1a820a264dce"
      },
      "execution_count": null,
      "outputs": [
        {
          "output_type": "stream",
          "name": "stdout",
          "text": [
            "None\n",
            "not fouund\n"
          ]
        }
      ]
    },
    {
      "cell_type": "code",
      "source": [
        "m=re.search(r\"[0-9]\",text)\n",
        "print(m)\n",
        "if m:\n",
        "  print(\"found\")\n",
        "else:\n",
        "  print(\"not fouund\")\n"
      ],
      "metadata": {
        "colab": {
          "base_uri": "https://localhost:8080/"
        },
        "id": "UUR4q5LEg7Qn",
        "outputId": "3f6c77c7-faab-473c-b1d2-99c88a5445a4"
      },
      "execution_count": null,
      "outputs": [
        {
          "output_type": "stream",
          "name": "stdout",
          "text": [
            "<re.Match object; span=(186, 187), match='0'>\n",
            "found\n"
          ]
        }
      ]
    },
    {
      "cell_type": "code",
      "source": [
        "m=re.search(r\"\\d\",text)\n",
        "print(m)\n",
        "if m:\n",
        "  print(\"found\")\n",
        "else:\n",
        "  print(\"not fouund\")\n"
      ],
      "metadata": {
        "colab": {
          "base_uri": "https://localhost:8080/"
        },
        "id": "25v3SliwhEE7",
        "outputId": "5bcc1b6c-15ba-4cc4-df74-5144367a111d"
      },
      "execution_count": null,
      "outputs": [
        {
          "output_type": "stream",
          "name": "stdout",
          "text": [
            "<re.Match object; span=(186, 187), match='0'>\n",
            "found\n"
          ]
        }
      ]
    },
    {
      "cell_type": "code",
      "source": [
        "m=re.search(r\"\\d{4}\",text)\n",
        "print(m)\n",
        "if m:\n",
        "  print(\"found\")\n",
        "else:\n",
        "  print(\"not fouund\")\n"
      ],
      "metadata": {
        "id": "fMVtB7OGh7ec",
        "colab": {
          "base_uri": "https://localhost:8080/"
        },
        "outputId": "37087a59-5084-4be3-ff8e-37619ab9a3b1"
      },
      "execution_count": null,
      "outputs": [
        {
          "output_type": "stream",
          "name": "stdout",
          "text": [
            "None\n",
            "not fouund\n"
          ]
        }
      ]
    },
    {
      "cell_type": "code",
      "source": [
        "m=re.search(r\"[ar]{2}\",text)\n",
        "print(m)\n",
        "if m:\n",
        "  print(\"found\")\n",
        "else:\n",
        "  print(\"not fouund\")\n"
      ],
      "metadata": {
        "colab": {
          "base_uri": "https://localhost:8080/"
        },
        "id": "b2Z2UOkWiSGK",
        "outputId": "dced2b6b-a855-4894-b9f0-2d85888af730"
      },
      "execution_count": null,
      "outputs": [
        {
          "output_type": "stream",
          "name": "stdout",
          "text": [
            "<re.Match object; span=(10, 12), match='ra'>\n",
            "found\n"
          ]
        }
      ]
    },
    {
      "cell_type": "code",
      "source": [
        "m=re.search(r\"a\",text)\n",
        "print(m)\n",
        "if m:\n",
        "  print(\"found\")\n",
        "else:\n",
        "  print(\"not fouund\")\n"
      ],
      "metadata": {
        "colab": {
          "base_uri": "https://localhost:8080/"
        },
        "id": "tFWLYHc3iptG",
        "outputId": "808214cd-4fb1-4841-c22e-cca53dd9d5f0"
      },
      "execution_count": null,
      "outputs": [
        {
          "output_type": "stream",
          "name": "stdout",
          "text": [
            "<re.Match object; span=(4, 5), match='a'>\n",
            "found\n"
          ]
        }
      ]
    },
    {
      "cell_type": "code",
      "source": [
        "m=re.search(r\"a+\",text)\n",
        "print(m)\n",
        "if m:\n",
        "  print(\"found\")\n",
        "else:\n",
        "  print(\"not fouund\")\n"
      ],
      "metadata": {
        "colab": {
          "base_uri": "https://localhost:8080/"
        },
        "id": "gk0HbWiOi5cg",
        "outputId": "ece71999-b38c-4f4e-93ef-60674190439f"
      },
      "execution_count": null,
      "outputs": [
        {
          "output_type": "stream",
          "name": "stdout",
          "text": [
            "<re.Match object; span=(4, 5), match='a'>\n",
            "found\n"
          ]
        }
      ]
    },
    {
      "cell_type": "code",
      "source": [
        "m=re.search(r\"na+\",text)\n",
        "print(m)\n",
        "if m:\n",
        "  print(\"found\")\n",
        "else:\n",
        "  print(\"not fouund\")\n"
      ],
      "metadata": {
        "colab": {
          "base_uri": "https://localhost:8080/"
        },
        "id": "pzbeIuRjjAmh",
        "outputId": "38e62e56-52f7-4d1c-801f-02560fc1ffaa"
      },
      "execution_count": null,
      "outputs": [
        {
          "output_type": "stream",
          "name": "stdout",
          "text": [
            "<re.Match object; span=(148, 150), match='na'>\n",
            "found\n"
          ]
        }
      ]
    },
    {
      "cell_type": "code",
      "source": [
        "mail_string ='''from:\tHackerRank Team <no-reply@hackerrankmail.com>\n",
        "to:\tdivyaparadkar007@gmail.com\n",
        "date:\tOct 3, 2023, 6:29 PM\n",
        "mobile no: 7898361816\n",
        "subject:\tWe Challenge You to Solve Mini-Max Sum\n",
        "mailed-by:\tpostmaster.hackerrankmail.com\n",
        "signed-by:\tpostmaster.hackerrankmail.com\n",
        "security:\t Standard encryption (TLS) Learn more\n",
        "'''"
      ],
      "metadata": {
        "id": "wmHEHRhkkA0F"
      },
      "execution_count": null,
      "outputs": []
    },
    {
      "cell_type": "code",
      "source": [
        "pat=r\"\\d{10}\"\n",
        "re.search(pat,mail_string)"
      ],
      "metadata": {
        "colab": {
          "base_uri": "https://localhost:8080/"
        },
        "id": "yML7_vuflF9_",
        "outputId": "108b93d2-7bf7-4de4-ddc1-978cd1a41a0c"
      },
      "execution_count": null,
      "outputs": [
        {
          "output_type": "execute_result",
          "data": {
            "text/plain": [
              "<re.Match object; span=(121, 131), match='7898361816'>"
            ]
          },
          "metadata": {},
          "execution_count": 36
        }
      ]
    },
    {
      "cell_type": "code",
      "source": [
        "pat=r\"\\d{10}\"\n",
        "m=re.findall(pat,mail_string)\n",
        "print(*m)"
      ],
      "metadata": {
        "colab": {
          "base_uri": "https://localhost:8080/"
        },
        "id": "k79rgpGcl_f0",
        "outputId": "42c2872b-56ee-4ae0-89c7-5ffa914c19a4"
      },
      "execution_count": null,
      "outputs": [
        {
          "output_type": "stream",
          "name": "stdout",
          "text": [
            "7898361816\n"
          ]
        }
      ]
    },
    {
      "cell_type": "code",
      "source": [
        "pat=r'[A-Za-z0-9._%+-]+@gmail\\.com\\b'\n",
        "m=re.search(pat,mail_string)\n",
        "print(m)\n",
        "\n"
      ],
      "metadata": {
        "colab": {
          "base_uri": "https://localhost:8080/"
        },
        "id": "apzFiyNRpZEw",
        "outputId": "95d6ded8-ae92-475d-c7fd-93e340ae8b21"
      },
      "execution_count": null,
      "outputs": [
        {
          "output_type": "stream",
          "name": "stdout",
          "text": [
            "<re.Match object; span=(56, 82), match='divyaparadkar007@gmail.com'>\n"
          ]
        }
      ]
    },
    {
      "cell_type": "code",
      "source": [
        "pat=r\"[A-Za-z0-9]+@[A-Za-z0-9]+\\.[A-Za-z0-9]\"\n",
        "m=re.findall(pat,mail_string)\n",
        "print(m)"
      ],
      "metadata": {
        "colab": {
          "base_uri": "https://localhost:8080/"
        },
        "id": "sXZXCBAhmUje",
        "outputId": "41b9a88b-6a4b-44d8-dc5d-abf87f11b877"
      },
      "execution_count": null,
      "outputs": [
        {
          "output_type": "stream",
          "name": "stdout",
          "text": [
            "['reply@hackerrankmail.c', 'divyaparadkar007@gmail.c']\n"
          ]
        }
      ]
    },
    {
      "cell_type": "code",
      "source": [
        "pat=r'date:\\s *([\\w\\s,]+)'\n",
        "m=re.search(pat,mail_string)\n",
        "print(m)\n",
        "\n"
      ],
      "metadata": {
        "colab": {
          "base_uri": "https://localhost:8080/"
        },
        "id": "brRoOLpCq69T",
        "outputId": "1c7a0761-ae9e-4b2f-8a80-5dc367a29d9c"
      },
      "execution_count": null,
      "outputs": [
        {
          "output_type": "stream",
          "name": "stdout",
          "text": [
            "<re.Match object; span=(83, 103), match='date:\\tOct 3, 2023, 6'>\n"
          ]
        }
      ]
    },
    {
      "cell_type": "code",
      "source": [
        "pat=r'date:[A-Za-z]+\\d{3},\\d{4}'\n",
        "m=re.search(date,mail_string)\n",
        "print(m)\n"
      ],
      "metadata": {
        "colab": {
          "base_uri": "https://localhost:8080/",
          "height": 210
        },
        "id": "ZEFUYvOItvV5",
        "outputId": "a20f0608-fb4c-4fe9-dabe-7181d289211f"
      },
      "execution_count": null,
      "outputs": [
        {
          "output_type": "error",
          "ename": "NameError",
          "evalue": "ignored",
          "traceback": [
            "\u001b[0;31m---------------------------------------------------------------------------\u001b[0m",
            "\u001b[0;31mNameError\u001b[0m                                 Traceback (most recent call last)",
            "\u001b[0;32m<ipython-input-74-40b6cd40e280>\u001b[0m in \u001b[0;36m<cell line: 2>\u001b[0;34m()\u001b[0m\n\u001b[1;32m      1\u001b[0m \u001b[0mpat\u001b[0m\u001b[0;34m=\u001b[0m\u001b[0;34mr'date:[A-Za-z]+\\d{3},\\d{4}'\u001b[0m\u001b[0;34m\u001b[0m\u001b[0;34m\u001b[0m\u001b[0m\n\u001b[0;32m----> 2\u001b[0;31m \u001b[0mm\u001b[0m\u001b[0;34m=\u001b[0m\u001b[0mre\u001b[0m\u001b[0;34m.\u001b[0m\u001b[0msearch\u001b[0m\u001b[0;34m(\u001b[0m\u001b[0mdate\u001b[0m\u001b[0;34m,\u001b[0m\u001b[0mmail_string\u001b[0m\u001b[0;34m)\u001b[0m\u001b[0;34m\u001b[0m\u001b[0;34m\u001b[0m\u001b[0m\n\u001b[0m\u001b[1;32m      3\u001b[0m \u001b[0mprint\u001b[0m\u001b[0;34m(\u001b[0m\u001b[0mm\u001b[0m\u001b[0;34m)\u001b[0m\u001b[0;34m\u001b[0m\u001b[0;34m\u001b[0m\u001b[0m\n",
            "\u001b[0;31mNameError\u001b[0m: name 'date' is not defined"
          ]
        }
      ]
    }
  ],
  "metadata": {
    "colab": {
      "provenance": [],
      "authorship_tag": "ABX9TyP8mVxTc2LAd5UFp+BFCgNH",
      "include_colab_link": true
    },
    "kernelspec": {
      "display_name": "Python 3",
      "name": "python3"
    },
    "language_info": {
      "name": "python"
    }
  },
  "nbformat": 4,
  "nbformat_minor": 0
}